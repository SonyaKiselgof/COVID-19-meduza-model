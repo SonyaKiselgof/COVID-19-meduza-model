{
 "cells": [
  {
   "cell_type": "code",
   "execution_count": 25,
   "metadata": {},
   "outputs": [],
   "source": [
    "import numpy as np\n",
    "import pandas as pd\n",
    "import matplotlib.pyplot as plt\n",
    "import datetime\n",
    "%matplotlib inline"
   ]
  },
  {
   "cell_type": "markdown",
   "metadata": {},
   "source": [
    "## Задаем параметры из литературы"
   ]
  },
  {
   "cell_type": "code",
   "execution_count": 26,
   "metadata": {},
   "outputs": [],
   "source": [
    "death_shift_days = -21 # нужно будет поменять на 21\n",
    "cases_shift_days = -10\n",
    "lethality = 0.0066\n",
    "rolling_window_for_coeff = 5\n",
    "tau_e=5.1\n",
    "tau_i=2.83"
   ]
  },
  {
   "cell_type": "markdown",
   "metadata": {},
   "source": [
    "## Функции для ключевых параметров"
   ]
  },
  {
   "cell_type": "markdown",
   "metadata": {},
   "source": [
    "#### Темп удвоения числа заболевших в расчете на каждую дату.\n",
    "\n",
    "```\n",
    "Вычисляется как: lg(2)/lg(1 + число из колонки I на данную дату)\n",
    "```"
   ]
  },
  {
   "cell_type": "code",
   "execution_count": 27,
   "metadata": {},
   "outputs": [],
   "source": [
    "def get_Td(x):\n",
    "    return np.log(2)/(np.log(1+x))"
   ]
  },
  {
   "cell_type": "markdown",
   "metadata": {},
   "source": [
    "#### Rₒ\n",
    "```\n",
    "Rₒ= (1 + (𝜏ₑ/𝜏₂)ln2) (1 + (𝜏ᵢ/𝜏₂)ln2)\n",
    "```"
   ]
  },
  {
   "cell_type": "code",
   "execution_count": 28,
   "metadata": {},
   "outputs": [],
   "source": [
    "def get_R_naught(Td, tau_e=5.1, tau_i=2.83): # KWARGS\n",
    "    a = 1 + (tau_e/Td)*np.log(2)\n",
    "    b = 1 + (tau_i/Td)*np.log(2)\n",
    "    R_naught = a*b\n",
    "    return R_naught                                          "
   ]
  },
  {
   "cell_type": "markdown",
   "metadata": {},
   "source": [
    "## Читаем данные из файла"
   ]
  },
  {
   "cell_type": "markdown",
   "metadata": {},
   "source": [
    "В этой версии используется локальная копия. Это может быть изменено в будущем. "
   ]
  },
  {
   "cell_type": "code",
   "execution_count": 29,
   "metadata": {},
   "outputs": [],
   "source": [
    "df = pd.read_csv('real_data.csv', index_col=0, header=0, parse_dates=False)\n",
    "df.index = pd.to_datetime(df.index, dayfirst=True)"
   ]
  },
  {
   "cell_type": "markdown",
   "metadata": {},
   "source": [
    "## Делаем сдвиги рядов данных"
   ]
  },
  {
   "cell_type": "code",
   "execution_count": 30,
   "metadata": {},
   "outputs": [],
   "source": [
    "df['death_shifted'] = df['death'].shift(death_shift_days)\n",
    "df['cases_shifted'] = df['cases'].shift(cases_shift_days)\n",
    "df['cases_expected'] = df['death_shifted']\\\n",
    "                            .rolling(rolling_window_for_coeff, center=True).mean()\\\n",
    "                            *(1/lethality)\n",
    "df['coeff_cases'] = df['cases_shifted'].rolling(rolling_window_for_coeff, center=True).mean()\\\n",
    "                        /df['cases_expected']\n",
    "# сдвигаем обратно коэффициент выявляемости\n",
    "df['coeff_cases_forwardshifted'] = df['coeff_cases'].shift(-cases_shift_days)"
   ]
  },
  {
   "cell_type": "markdown",
   "metadata": {},
   "source": [
    "## Моделируем коэффициент выявляемости\n"
   ]
  },
  {
   "cell_type": "markdown",
   "metadata": {},
   "source": [
    "### Фиттинг расчитанных коэффициентов логистической кривой\n"
   ]
  },
  {
   "cell_type": "markdown",
   "metadata": {},
   "source": [
    "Фиттинг в этом варианте чувствителен к параметрам death_shift_days и cases_shift_days, нужно обращать на них внимание "
   ]
  },
  {
   "cell_type": "markdown",
   "metadata": {},
   "source": [
    "Функция которая берет DataSeries коэффициента, фиттит его на логистическую функцию с максимумом 1 и возвращает DataSeries где пропущенные значения заменены смоделированными значениями."
   ]
  },
  {
   "cell_type": "code",
   "execution_count": 31,
   "metadata": {},
   "outputs": [],
   "source": [
    "def fit_and_input_coeffs(df,first_date_to_fit=None,last_date_to_fit=None):\n",
    "    column_name = df.name\n",
    "    index_name = df.index.name\n",
    "    \n",
    "    if not first_date_to_fit:\n",
    "        first_date_to_fit = df.index[0]\n",
    "    if not last_date_to_fit:\n",
    "        last_date_to_fit  = df.index[-1]\n",
    "    \n",
    "    xdata = df[first_date_to_fit:last_date_to_fit].reset_index()[column_name].dropna().index.values\n",
    "    ydata = df[first_date_to_fit:last_date_to_fit].reset_index()[column_name].dropna().values\n",
    "\n",
    "    # fitting to log\n",
    "    from scipy.optimize import curve_fit\n",
    "    # Generalised logistic function\n",
    "    # https://en.wikipedia.org/wiki/Generalised_logistic_function\n",
    "    # implementation details https://stats.stackexchange.com/questions/190107/curve-fit-with-logarithmic-regression-in-python\n",
    "    def gen_log_func(x, b, c, a,  d=1, g=0.5):\n",
    "        return ( ( (a-d) / ( (1+( (x/c)**b )) **g) ) + d )\n",
    "    # fit the data\n",
    "    popt, pcov = curve_fit(gen_log_func, xdata, ydata, p0=(1,1,0))\n",
    "    # curve params\n",
    "    p1 = popt[0]\n",
    "    p2 = popt[1]\n",
    "    p3 = popt[2]\n",
    "\n",
    "\n",
    "    df = df.reset_index()\n",
    "    # find and input missing values\n",
    "    f = df[column_name].isna()\n",
    "    for i in df[f].index:\n",
    "        df.loc[i,column_name]= gen_log_func(df.index[i],p1,p2,p3)\n",
    "    \n",
    "    # return Series in original format\n",
    "    return df.set_index(index_name, drop=True)[column_name]"
   ]
  },
  {
   "cell_type": "markdown",
   "metadata": {},
   "source": [
    "Функция которая возвращает серию самой функции после фиттинга"
   ]
  },
  {
   "cell_type": "code",
   "execution_count": 32,
   "metadata": {},
   "outputs": [],
   "source": [
    "def get_fitting_curve(df,first_date_to_fit=None,last_date_to_fit=None):\n",
    "    column_name = df.name\n",
    "    index_name = df.index.name\n",
    "    \n",
    "    if not first_date_to_fit:\n",
    "        first_date_to_fit = df.index[0]\n",
    "    if not last_date_to_fit:\n",
    "        last_date_to_fit  = df.index[-1]\n",
    "    \n",
    "    xdata = df[first_date_to_fit:last_date_to_fit].reset_index()[column_name].dropna().index.values\n",
    "    ydata = df[first_date_to_fit:last_date_to_fit].reset_index()[column_name].dropna().values\n",
    "\n",
    "    # fitting to log\n",
    "    from scipy.optimize import curve_fit\n",
    "    # Generalised logistic function\n",
    "    # https://en.wikipedia.org/wiki/Generalised_logistic_function\n",
    "    # implementation https://stats.stackexchange.com/questions/190107/curve-fit-with-logarithmic-regression-in-python\n",
    "    def gen_log_func(x, b, c, a,  d=1, g=0.5):\n",
    "        return ( ( (a-d) / ( (1+( (x/c)**b )) **g) ) + d )\n",
    "    # fit the data\n",
    "    popt, pcov = curve_fit(gen_log_func, xdata, ydata, p0=(1,1,0))\n",
    "    # curve params\n",
    "    p1 = popt[0]\n",
    "    p2 = popt[1]\n",
    "    p3 = popt[2]\n",
    "    \n",
    "    df = df.reset_index()\n",
    "    # find and input missing values\n",
    "#     f = df[column_name].isna()\n",
    "    for i in df.index:\n",
    "        df.loc[i,column_name]= gen_log_func(df.index[i],p1,p2,p3)\n",
    "    \n",
    "    # return Series in original format\n",
    "    return df.set_index(index_name, drop=True)[column_name]"
   ]
  },
  {
   "cell_type": "markdown",
   "metadata": {},
   "source": [
    "## Первый сценарий - коэффициент остается средним"
   ]
  },
  {
   "cell_type": "code",
   "execution_count": 33,
   "metadata": {},
   "outputs": [],
   "source": [
    "# df['coeff_cases_model'] = df['coeff_cases_forwardshifted']\n",
    "\n",
    "# B = df['coeff_cases_model'].dropna().index[-1]\n",
    "# mean_forward_coeff_cases = df['coeff_cases_model'].dropna()[-rolling_window_for_coeff:].mean()\n",
    "\n",
    "# for date in df[B:]['coeff_cases_model'][1:].index:\n",
    "#     df.loc[date, 'coeff_cases_model'] = mean_forward_coeff_cases"
   ]
  },
  {
   "cell_type": "markdown",
   "metadata": {},
   "source": [
    "## Второй сценарий - коэффициент растет в соответствии с кривой"
   ]
  },
  {
   "cell_type": "code",
   "execution_count": 34,
   "metadata": {},
   "outputs": [
    {
     "data": {
      "text/plain": [
       "time\n",
       "2020-04-26    1.458538\n",
       "Name: R_naught, dtype: float64"
      ]
     },
     "execution_count": 34,
     "metadata": {},
     "output_type": "execute_result"
    }
   ],
   "source": [
    "## Добавляем коэффициенты в конец и начало\n",
    "\n",
    "df['coeff_cases_model'] = fit_and_input_coeffs(df['coeff_cases_forwardshifted'])\n",
    "df['coeff_cases_curve'] = get_fitting_curve(df['coeff_cases_forwardshifted'])\n",
    "\n",
    "### Считаем время удвоения и Rₒ\n",
    "\n",
    "df['cases_adj'] = df['cases']/df['coeff_cases_model']\n",
    "\n",
    "df['cases_adj_rate'] = df['cases_adj']/(df['cases_adj'].cumsum())\n",
    "\n",
    "df['doubling_time'] = df['cases_adj_rate'].apply(get_Td)\n",
    "\n",
    "df['doubling_time_rolling'] = df['doubling_time'].rolling(rolling_window_for_coeff, center=True).mean()\n",
    "\n",
    "df['R_naught']=df['doubling_time_rolling'].apply(get_R_naught)\n",
    "\n",
    "### Последний вычисленный Rₒ для модели SEIR\n",
    "\n",
    "df['R_naught'].dropna().tail(1)"
   ]
  },
  {
   "cell_type": "markdown",
   "metadata": {},
   "source": [
    "### Считаем время удвоения и Rₒ"
   ]
  },
  {
   "cell_type": "code",
   "execution_count": 35,
   "metadata": {},
   "outputs": [],
   "source": [
    "df['cases_adj'] = df['cases']/df['coeff_cases_model']\n",
    "\n",
    "df['cases_adj_rate'] = df['cases_adj']/(df['cases_adj'].cumsum())\n",
    "\n",
    "df['doubling_time'] = df['cases_adj_rate'].apply(get_Td)\n",
    "\n",
    "df['doubling_time_rolling'] = df['doubling_time'].rolling(rolling_window_for_coeff, center=True).mean()\n",
    "\n",
    "df['R_naught']=df['doubling_time_rolling'].apply(get_R_naught)"
   ]
  },
  {
   "cell_type": "markdown",
   "metadata": {},
   "source": [
    "### Последний вычисленный Rₒ для модели SEIR"
   ]
  },
  {
   "cell_type": "code",
   "execution_count": 36,
   "metadata": {},
   "outputs": [
    {
     "data": {
      "text/plain": [
       "time\n",
       "2020-04-26    1.458538\n",
       "Name: R_naught, dtype: float64"
      ]
     },
     "execution_count": 36,
     "metadata": {},
     "output_type": "execute_result"
    }
   ],
   "source": [
    "df['R_naught'].dropna().tail(1)"
   ]
  },
  {
   "cell_type": "code",
   "execution_count": 37,
   "metadata": {},
   "outputs": [
    {
     "data": {
      "text/plain": [
       "<matplotlib.axes._subplots.AxesSubplot at 0x7f871c618c88>"
      ]
     },
     "execution_count": 37,
     "metadata": {},
     "output_type": "execute_result"
    },
    {
     "data": {
      "image/png": "[encoded data removed]",
      "text/plain": [
       "<Figure size 432x288 with 1 Axes>"
      ]
     },
     "metadata": {
      "needs_background": "light"
     },
     "output_type": "display_data"
    }
   ],
   "source": [
    "df['R_naught'].plot(ylim=(1,5))"
   ]
  },
  {
   "cell_type": "markdown",
   "metadata": {},
   "source": [
    "## Экспорт данных"
   ]
  },
  {
   "cell_type": "code",
   "execution_count": 38,
   "metadata": {},
   "outputs": [],
   "source": [
    "# df.to_excel('prognosis_scenary_2.xlsx')"
   ]
  },
  {
   "cell_type": "markdown",
   "metadata": {},
   "source": [
    "Пример ссылки на моделирование:"
   ]
  },
  {
   "cell_type": "markdown",
   "metadata": {},
   "source": [
    "```\n",
    "https://covid19-scenarios.org/?v=1&q=~(current~'Custom~containment~(~(id~'ac250f95-ce49-4663-abff-2105ea02d3b9~name~'Intervention*201~color~'*2372640c~mitigationValue~35~timeRange~(tMin~1585040400000~tMax~1586854800000))~(id~'e1a5a1e8-bd24-42b8-8fdc-0fb4d1a569ed~name~'Intervention*20from*2015*20Apr*202020~color~'*2396c453~mitigationValue~80~timeRange~(tMin~1586914972915~tMax~1593507600000)))~population~(cases~'Russian*20Federation~country~'Russian*20Federation~hospitalBeds~100000~ICUBeds~40500~importsPerDay~0.1~initialNumberOfCases~750~populationServed~146745098)~epidemiological~(infectiousPeriod~2.82~latencyTime~5.1~lengthHospitalStay~7~lengthICUStay~7~overflowSeverity~2~peakMonth~0~r0~3.8~seasonalForcing~0.2)~simulation~(simulationTimeRange~(tMin~1584090000000~tMax~1593507600000)~numberStochasticRuns~0)~ageDistribution~(0-9~18622607~10-19~15256035~20-29~15607785~30-39~24468554~40-49~20375320~50-59~18897667~60-69~18501370~70-79~8549716~80*2b~5655408))\n",
    "```"
   ]
  }
 ],
 "metadata": {
  "kernelspec": {
   "display_name": "Python 3",
   "language": "python",
   "name": "python3"
  },
  "language_info": {
   "codemirror_mode": {
    "name": "ipython",
    "version": 3
   },
   "file_extension": ".py",
   "mimetype": "text/x-python",
   "name": "python",
   "nbconvert_exporter": "python",
   "pygments_lexer": "ipython3",
   "version": "3.7.3"
  }
 },
 "nbformat": 4,
 "nbformat_minor": 2
}
